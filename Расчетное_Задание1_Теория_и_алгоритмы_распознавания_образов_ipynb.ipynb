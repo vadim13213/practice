{
  "nbformat": 4,
  "nbformat_minor": 0,
  "metadata": {
    "colab": {
      "provenance": []
    },
    "kernelspec": {
      "name": "python3",
      "display_name": "Python 3"
    },
    "language_info": {
      "name": "python"
    }
  },
  "cells": [
    {
      "cell_type": "markdown",
      "source": [
        "# Расчетное задание №1. Вариант 4. Захаренко Вадим 2021-ФГиИБ-ПИ-1б"
      ],
      "metadata": {
        "id": "B5v7k02O16LF"
      }
    },
    {
      "cell_type": "markdown",
      "source": [
        "Параметры, необходимые для расчета (варинат 4):\n",
        "\n",
        "\n",
        "*   Класс 1: P1 = 0.2, m1 = 8, d1 = 2\n",
        "*   Класс 2: P2 = 0.4, m2 = 12, d1 = 1\n",
        "*   Класс 3: P3 = 0.4, m3 = 17, d3 = 3\n"
      ],
      "metadata": {
        "id": "Vlagn2uf2iB_"
      }
    },
    {
      "cell_type": "markdown",
      "source": [
        "# Выполнение работы."
      ],
      "metadata": {
        "id": "SFpd0iRa3b7l"
      }
    },
    {
      "cell_type": "markdown",
      "source": [
        "# 1. Найти все разделяющие точки для пар K1-K2, K1-K3, K2-K3."
      ],
      "metadata": {
        "id": "7cAfeoQS3nI_"
      }
    },
    {
      "cell_type": "markdown",
      "source": [
        "Для начала необходимо определить функции правдоподобия для каждого класса. Функция правдоподобия для нормально распределённой случайной величины выражается через её плотность вероятности, умноженную на априорную вероятность класса. Для нормального распределения с параметрами $m$ (среднее значение) и $d$ (стандартное отклонение) функция плотности вероятности $f(x)$ имеет вид:\n",
        "\n",
        "$f(x) = \\frac{1}{\\sqrt{2\\pi} d} e^{-\\frac{(x-m)^2}{2d^2}}$\n",
        "\n",
        "Тогда функция правдоподобия для класса $i$ будет:\n",
        "\n",
        "$P_i(x) = P_i \\cdot \\frac{1}{\\sqrt{2\\pi} d_i} e^{-\\frac{(x-m_i)^2}{2d_i^2}}$\n",
        "\n",
        "Чтобы найти разделяющие точки между классами, нужно решить уравнение, приравнивая функции правдоподобия двух классов. Например, для точек между классами 1 и 2 уравнение будет:\n",
        "\n",
        "$P_1 \\cdot \\frac{1}{\\sqrt{2\\pi} d_1} e^{-\\frac{(x-m_1)^2}{2d_1^2}} = P_2 \\cdot \\frac{1}{\\sqrt{2\\pi} d_2} e^{-\\frac{(x-m_2)^2}{2d_2^2}}$\n",
        "\n",
        "После логарифмирования и упрощения получится квадратное уравнение относительно $x$, которое можно решить для нахождения разделяющих точек. Аналогично поступаем для классов 2 и 3."
      ],
      "metadata": {
        "id": "1TvnEYW535nI"
      }
    },
    {
      "cell_type": "markdown",
      "source": [
        "Приступим к нахождению разделяющих точек.\n",
        "\n",
        "Для этого будем использовать Python, библиотеку Scipy. Из библиотеки Scipy будем использовать функцию fsolve, которая позволяет решать системы нелинейных уравнений численно."
      ],
      "metadata": {
        "id": "HL7PTq2A914c"
      }
    },
    {
      "cell_type": "code",
      "execution_count": 4,
      "metadata": {
        "colab": {
          "base_uri": "https://localhost:8080/"
        },
        "id": "vnq1SIx01eip",
        "outputId": "9f0eb805-aeb0-4385-f35f-017924fd95da"
      },
      "outputs": [
        {
          "output_type": "stream",
          "name": "stdout",
          "text": [
            "Разделяющие точки между классами 1 и 2: 10.045796858388206\n",
            "Разделяющие точки между классами 1 и 3: 11.406478122199399\n",
            "Разделяющие точки между классами 2 и 3: 13.8219374020402\n"
          ]
        }
      ],
      "source": [
        "import numpy as np\n",
        "import matplotlib.pyplot as plt\n",
        "from scipy.optimize import fsolve\n",
        "from scipy.stats import norm\n",
        "\n",
        "P1, m1, d1 = 0.2, 8, 2\n",
        "P2, m2, d2 = 0.4, 12, 1\n",
        "P3, m3, d3 = 0.4, 17, 3\n",
        "\n",
        "\n",
        "def likelihood(x, P, m, d):\n",
        "    return P * norm.pdf(x, m, d)\n",
        "\n",
        "def likelihood_class_1(x):\n",
        "    return likelihood(x, P1, m1, d1)\n",
        "\n",
        "def likelihood_class_2(x):\n",
        "    return likelihood(x, P2, m2, d2)\n",
        "\n",
        "def likelihood_class_3(x):\n",
        "    return likelihood(x, P3, m3, d3)\n",
        "\n",
        "def find_intersection(f1, f2, x0):\n",
        "    return fsolve(lambda x: f1(x) - f2(x), x0)\n",
        "\n",
        "initial_guess_1_2 = (m1 + m2) / 2\n",
        "initial_guess_1_3 = (m1 + m3) / 2\n",
        "initial_guess_2_3 = (m2 + m3) / 2\n",
        "\n",
        "intersection_1_2 = find_intersection(likelihood_class_1, likelihood_class_2, initial_guess_1_2)\n",
        "intersection_1_3 = find_intersection(likelihood_class_1, likelihood_class_3, initial_guess_1_3)\n",
        "intersection_2_3 = find_intersection(likelihood_class_2, likelihood_class_3, initial_guess_2_3)\n",
        "\n",
        "print('Разделяющие точки между классами 1 и 2:', intersection_1_2[0])\n",
        "print('Разделяющие точки между классами 1 и 3:', intersection_1_3[0])\n",
        "print('Разделяющие точки между классами 2 и 3:', intersection_2_3[0])"
      ]
    },
    {
      "cell_type": "markdown",
      "source": [
        "# 2. Построить график функции прадоподобия $P_if(m_i,d_i)$."
      ],
      "metadata": {
        "id": "KdO86PVBB3Cs"
      }
    },
    {
      "cell_type": "markdown",
      "source": [
        "Для построяния графика функции правдоподобия также будем использовать Python, но на этот раз библиотеку Matplotlib, предназначенную как раз таки для построения графиков."
      ],
      "metadata": {
        "id": "jteoMkXsCK9g"
      }
    },
    {
      "cell_type": "code",
      "source": [
        "x = np.linspace(5, 25, 1000)\n",
        "\n",
        "P1_x = likelihood(x, P1, m1, d1)\n",
        "P2_x = likelihood(x, P2, m2, d2)\n",
        "P3_x = likelihood(x, P3, m3, d3)\n",
        "\n",
        "plt.figure(figsize=(12, 7))\n",
        "plt.plot(x, P1_x, label='Класс 1: P1*f(m1, d1)')\n",
        "plt.plot(x, P2_x, label='Класс 2: P2*f(m2, d2)')\n",
        "plt.plot(x, P3_x, label='Класс 3: P3*f(m3, d3)')\n",
        "plt.title('График функции правдоподобия.')\n",
        "plt.xlabel('x')\n",
        "plt.ylabel('P(x)')\n",
        "plt.legend()\n",
        "plt.grid(True)\n",
        "plt.show()"
      ],
      "metadata": {
        "colab": {
          "base_uri": "https://localhost:8080/",
          "height": 641
        },
        "id": "GOp4J4fsDgrO",
        "outputId": "f40185f2-9da0-47c3-ee94-9d2ed844a292"
      },
      "execution_count": 5,
      "outputs": [
        {
          "output_type": "display_data",
          "data": {
            "text/plain": [
              "<Figure size 1200x700 with 1 Axes>"
            ],
            "image/png": "https://github.com/vadim13213/practice/blob/352042c5de951dca8888c159a2d350f6beb05345/Figure_1.png\n"
          },
          "metadata": {}
        }
      ]
    },
    {
      "cell_type": "markdown",
      "source": [
        "# 3. Указать на графике все полученные **разделяющие точки**."
      ],
      "metadata": {
        "id": "6nxYzu4xEW1D"
      }
    },
    {
      "cell_type": "code",
      "source": [
        "class1_region = x[x < intersection_1_2]\n",
        "class2_region = x[(x >= intersection_1_2) & (x < intersection_2_3)]\n",
        "class3_region = x[x >= intersection_2_3]\n",
        "\n",
        "plt.figure(figsize=(12, 7))\n",
        "plt.plot(x, likelihood(x, P1, m1, d1), label='Класс 1: P1*f(m1, d1)')\n",
        "plt.plot(x, likelihood(x, P2, m2, d2), label='Класс 2: P2*f(m2, d2)')\n",
        "plt.plot(x, likelihood(x, P3, m3, d3), label='Класс 3: P3*f(m3, d3)')\n",
        "plt.fill_between(class1_region, likelihood(class1_region, P1, m1, d1), alpha=0.3)\n",
        "plt.fill_between(class2_region, likelihood(class2_region, P2, m2, d2), alpha=0.3)\n",
        "plt.fill_between(class3_region, likelihood(class3_region, P3, m3, d3), alpha=0.3)\n",
        "\n",
        "plt.title('График функции правдоподобия с разделяющими точками')\n",
        "plt.xlabel('x')\n",
        "plt.ylabel('P(x)')\n",
        "plt.legend()\n",
        "plt.grid(True)\n",
        "\n",
        "plt.scatter(intersection_1_2, likelihood(intersection_1_2, P2, m2, d2), color='black', zorder=5, label='Decision Boundary')\n",
        "plt.scatter(intersection_1_3, likelihood(intersection_1_3, P1, m1, d1), facecolors='none', edgecolors='black', zorder=5, marker='o')\n",
        "plt.scatter(intersection_2_3, likelihood(intersection_2_3, P3, m3, d3), color='black', zorder=5)\n",
        "plt.show()"
      ],
      "metadata": {
        "colab": {
          "base_uri": "https://localhost:8080/",
          "height": 641
        },
        "id": "gg3eLftQF-1b",
        "outputId": "b1759664-5fd0-4d00-e5d1-84b7773478b2"
      },
      "execution_count": 3,
      "outputs": [
        {
          "output_type": "display_data",
          "data": {
            "text/plain": [
              "<Figure size 1200x700 with 1 Axes>"
            ],
            "image/png": "(https://github.com/vadim13213/practice/blob/main/Figure_1.png)\n"
          },
          "metadata": {}
        }
      ]
    },
    {
      "cell_type": "markdown",
      "source": [
        "На графике показаны функции правдоподобия для всех трех классов с закрашенными областями решений:\n",
        "\n",
        "* Синяя область соответствует классу 1 и ограничена справа разделяющей точкой $x≈11.38$.\n",
        "* Оранжевая область соответствует классу 2 и находится между разделяющими точками $x≈11.38$ и $x≈14.61$.\n",
        "* Зеленая область соответствует классу 3 и начинается от разделяющей точки $x≈14.61$ и продолжается вправо.\n",
        "\n",
        "Черные точки обозначают разделяющие границы между классами (определяют область решений). Выколотая точка не определяет область решений."
      ],
      "metadata": {
        "id": "uqLukBS5IugP"
      }
    },
    {
      "cell_type": "markdown",
      "source": [
        "# 4. Выбрать точки, соотвествующие границам классов, и записать ответ в виде отрезков (или полуинтервалов), соответсвующих каждому из трех классов."
      ],
      "metadata": {
        "id": "1uh17Mn3JVoF"
      }
    },
    {
      "cell_type": "markdown",
      "source": [
        "Исходя из найденных точек разделения и ориентируясь по графику, мы можем определить следующие границы для классов:\n",
        "* Класс 1:\n",
        "$(0, 11.38)$ – значения меньше первой разделяющей точки.\n",
        "* Класс 2:\n",
        "$[11.38,14.61)$ – значения от первой до второй разделяющей точки.\n",
        "* Класс 3:\n",
        "$[14.61,+∞)$ – значения больше второй разделяющей точки.\n",
        "\n",
        "Эти интервалы представляют собой отрезки или полуинтервалы, на которых классификатор будет принимать решение о принадлежности к определенному классу. Если значение x попадает в один из этих интервалов, то оно классифицируется соответственно."
      ],
      "metadata": {
        "id": "Pi8v62UzJpJb"
      }
    }
  ]
}
